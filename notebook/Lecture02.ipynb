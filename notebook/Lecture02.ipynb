{
 "cells": [
  {
   "cell_type": "markdown",
   "metadata": {},
   "source": [
    "# Lecture 02\n",
    "\n",
    "Solve the Burgers equation using the methods of characteristics (MOC).\n",
    "\n",
    "In one dimension $\\Omega=(0,L)$ the Burgers equation is $\\partial_t u + u\\partial_x u=0$. We use initial data $u(t=0,x)=u_0(x)$ and periodic boundary conditions, i.e. $u(t,x+L)=u(t,x)$.\n",
    "\n",
    "The method of characteristics defines the solution as\n",
    "\n",
    "$u(t,\\xi(t))=u_0(x_0)$ with characteristics $\\xi(t)=B(u_0(x_0))t+x_0$ for a characteristics starting from a point $x_0$. For the Burgers equation $B(u)=u$.\n",
    "\n",
    "For initial data we could take $u_0(x)=(1-4|x-1|)_+$ where the positive part of a function is defined as $(u(x))_+ = \\max(u(x),0)$. Alternatively you can also try $u_0(x)=1+\\cos(\\pi x)$.\n",
    "\n",
    "Next time we discuss your answers to the questions and the reasons for your observations. Have fun!\n",
    "\n",
    "**Content:**\n",
    "\n",
    "Part 1. Generates and plots the initial data\n",
    "Part 2. Generates and plots the solution from MOC at a later time T\n",
    "Part 3. Generates a solution using finite differences.\n",
    "\n",
    "**Questions:**\n",
    "\n",
    "1. What are conserved quantities $f(u)$?\n",
    "2. Check that they are in fact conserved (numerically and on paper), i.e.\n",
    "\n",
    "$$\n",
    "\\frac{\\rm d}{{\\rm d}t} \\int_0^L f(u(t,x))\\,{\\rm d}x=0.\n",
    "$$\n",
    "\n",
    "3. What happens to the initial data $u_0(x)=(1-4|x-1|)_+$ at $T=0.25$ and afterwards and how does this affect question 1. and 2.?\n",
    "\n",
    "4. Verify 1. and 2. also for the numerical solution of Part 3 (before and beyond T=0.25). Use a sufficiently fine mesh.\n",
    "\n"
   ]
  },
  {
   "cell_type": "code",
   "execution_count": null,
   "metadata": {},
   "outputs": [],
   "source": [
    "# Part 1.) Plot initial data.\n",
    "import numpy as np\n",
    "from matplotlib import pyplot as plt\n",
    "\n",
    "L       = 2.0\n",
    "npoint  = 512\n",
    "\n",
    "x = np.linspace(0,L,npoint)\n",
    "x = x[:-1]\n",
    "u = np.maximum(1-4*abs(x-1),0)\n",
    "plt.plot(x,u)"
   ]
  },
  {
   "cell_type": "code",
   "execution_count": null,
   "metadata": {},
   "outputs": [],
   "source": [
    "# Part 2.) Plot the solution at any later time T.\n",
    "import numpy as np\n",
    "from matplotlib import pyplot as plt\n",
    "\n",
    "L       = 2.0\n",
    "npoint  = 512\n",
    "T       = 0.4\n",
    "\n",
    "\n",
    "x = np.linspace(0,L,npoint)\n",
    "x = x[:-1]\n",
    "u = np.maximum(1-4*abs(x-1),0)\n",
    "\n",
    "plt.plot(x,u)\n",
    "\n",
    "xi = u*T + x \n",
    "\n",
    "plt.plot(xi,u)"
   ]
  },
  {
   "cell_type": "markdown",
   "metadata": {},
   "source": [
    "# Burgers equation and up-wind\n",
    "\n",
    "Solution of Burgers equation via standard up-wind\n",
    "\n",
    "\\begin{align}\n",
    "u(t+\\tau,x_i) = u(t,x_i) - \\frac{\\tau}{h} \\left\\{F(u(t,x_i))-F((u(t,x_{i-1}))\\right\\},\n",
    "\\end{align}\n",
    "\n",
    "with flux $F(u)=\\tfrac12 u^2$ and we identify periodically $u(t,x)=u(t,x+L)$ with mesh point $x_i=ih$ and $h=L/N$ for $i=0,...,N-1$."
   ]
  },
  {
   "cell_type": "code",
   "execution_count": null,
   "metadata": {},
   "outputs": [],
   "source": [
    "# Part 3.) Solve the Burgers equation using up-wind method\n",
    "import numpy as np\n",
    "from matplotlib import pyplot as plt\n",
    "\n",
    "L       = 2.0          # domain size\n",
    "npoint  = 6*512        # number of mesh point \n",
    "T       = 0.25         # final time\n",
    "n_steps = 2*npoint     # number of time steps\n",
    "t       = 0.0          # initial time\n",
    "dt      = T/(n_steps)  # time step size\n",
    "\n",
    "x = np.linspace(0,L,npoint)\n",
    "x = x[:-1]\n",
    "u = np.maximum(1-4*abs(x-1),0) # initial data\n",
    "\n",
    "h        = x[2]-x[1]\n",
    "slice    = np.array(range(-1,npoint-2));\n",
    "slice[0] = npoint-2\n",
    "\n",
    "def flux(u):\n",
    "    return 0.5*u*u\n",
    "\n",
    "plt.plot(x,u)\n",
    "for it in range(n_steps+1):\n",
    "     t += dt\n",
    "     u -= dt*(flux(u)-flux(u[slice]))/h\n",
    "     if (it % round(n_steps/6) == 0):\n",
    "        plt.plot(x,u)"
   ]
  }
 ],
 "metadata": {
  "CodeCell": {
   "cm_config": {
    "lineWrapping": true
   }
  },
  "MarkdownCell": {
   "cm_config": {
    "lineWrapping": true
   }
  },
  "colab": {
   "collapsed_sections": [],
   "name": "Example-Intro.ipynb",
   "provenance": []
  },
  "kernelspec": {
   "display_name": "Python 3",
   "language": "python",
   "name": "python3"
  },
  "language_info": {
   "codemirror_mode": {
    "name": "ipython",
    "version": 3
   },
   "file_extension": ".py",
   "mimetype": "text/x-python",
   "name": "python",
   "nbconvert_exporter": "python",
   "pygments_lexer": "ipython3",
   "version": "3.6.9"
  }
 },
 "nbformat": 4,
 "nbformat_minor": 1
}
